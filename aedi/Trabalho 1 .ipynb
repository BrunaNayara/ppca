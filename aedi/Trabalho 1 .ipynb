{
 "cells": [
  {
   "cell_type": "markdown",
   "id": "c7c2661b",
   "metadata": {},
   "source": [
    "Bruna Nayara Moreira Lima\n",
    "\n",
    "21/0008148"
   ]
  },
  {
   "cell_type": "markdown",
   "id": "171d6098",
   "metadata": {},
   "source": [
    "# Distribuição normal\n",
    "\n",
    "A distribuição de probabilidade da variável normal depende de dois parâmetros, a média e desvio padrão, μ e σ, respectivamente.\n",
    "\n",
    "$$f(x) = \\frac{1}{(\\sigma\\sqrt{2 \\pi})} e^{-(\\frac{(x - \\mu)^2}{2 \\sigma^2})} $$"
   ]
  },
  {
   "cell_type": "code",
   "execution_count": 85,
   "id": "59994ab0",
   "metadata": {},
   "outputs": [],
   "source": [
    "# Importar as bibliotecas importantes\n",
    "import scipy\n",
    "from scipy.stats import norm                          # distribuição normal\n",
    "import numpy as np                                    # gerar um intervalo\n",
    "import matplotlib.pyplot as plt                       # plotar o gráfico\n",
    "#import seaborn as sb                                  # configuração do gráfico"
   ]
  },
  {
   "cell_type": "markdown",
   "id": "6c6db8d8",
   "metadata": {},
   "source": [
    "## Funções auxiliares\n",
    "A seguir são declaradas funções que calculam o intervalo, a probabilidade acumulada, e a densidade. Para isso, foram usadas as bibliotecas matemáticas numpy e scipy (importadas na célula anterior)."
   ]
  },
  {
   "cell_type": "code",
   "execution_count": 86,
   "id": "7c39d57f",
   "metadata": {},
   "outputs": [],
   "source": [
    "def gerar_intervalo(inicio, final, passo):\n",
    "    \"\"\"\n",
    "    Essa função usa a função arange do numpy para gerar um intervalo\n",
    "    \"\"\"\n",
    "    return np.arange(inicio, final, passo)"
   ]
  },
  {
   "cell_type": "code",
   "execution_count": 87,
   "id": "67326eff",
   "metadata": {},
   "outputs": [],
   "source": [
    "def densidade_probabilidade(dados, media, desvio_padrao):\n",
    "    \"\"\"\n",
    "    Essa função retorna a função densidade de probabilidade\n",
    "    \"\"\"\n",
    "    return norm.pdf(dados , loc = media , scale = desvio_padrao)"
   ]
  },
  {
   "cell_type": "code",
   "execution_count": 88,
   "id": "3e078b2a",
   "metadata": {},
   "outputs": [],
   "source": [
    "def probabilidade_acumulada(media, desvio_padrao, ponto):\n",
    "    \"\"\"\n",
    "    Essa função retorna a probabilidade acumulada\n",
    "    \"\"\"\n",
    "    return norm(loc = media , scale = desvio_padrao).cdf(ponto)"
   ]
  },
  {
   "cell_type": "markdown",
   "id": "3efcd6ab",
   "metadata": {},
   "source": [
    "## Valores do problema apresentado\n",
    "A seguir são utilizados os valores que estão descritos nesse problema\n",
    "\n",
    "\"Digamos que o número de caixa de remédios cardíacos de\n",
    "farmácia popular é geralmente distribuído por uma distribuição\n",
    "normal com média de 100 caixas por dia e desvio-padrão de\n",
    "15 caixas. A proporção de caixas por dia fundamental para a\n",
    "continuidade do funcionamento da farmácia popular está no\n",
    "intervalo entre 80 e 120. Qual é a proporção esperada de\n",
    "caixas por dia que possuem intervalo entre 80 e 120?\""
   ]
  },
  {
   "cell_type": "code",
   "execution_count": 89,
   "id": "342a5c51",
   "metadata": {},
   "outputs": [],
   "source": [
    "# declarando os valores\n",
    "media = 100\n",
    "desvio_padrao = 15\n",
    "\n",
    "limite_inferior = 80\n",
    "limite_superior = 120\n",
    "\n"
   ]
  },
  {
   "cell_type": "code",
   "execution_count": 90,
   "id": "d0d8aa76",
   "metadata": {},
   "outputs": [],
   "source": [
    "# densidade de probabilidade\n",
    "dados = gerar_intervalo(inicio_grafico, final_grafico, 1)\n",
    "pdf = densidade_probabilidade(dados, media, desvio_padrao)\n",
    "\n",
    "# calcular probabilidade acumulada\n",
    "prob_superior = probabilidade_acumulada(media, desvio_padrao, limite_superior)\n",
    "prob_inferior = probabilidade_acumulada(media, desvio_padrao, limite_inferior)"
   ]
  },
  {
   "cell_type": "markdown",
   "id": "6b67a571",
   "metadata": {},
   "source": [
    "## Calculando o intervalo\n",
    "O problema pergunta \"Qual é a proporção esperada de caixas por dia que possuem intervalo entre 80 e 120?\". \n",
    "Para isso precisamos calcular a probabilidade do início e fim do intervalo e calcular a diferença."
   ]
  },
  {
   "cell_type": "code",
   "execution_count": 91,
   "id": "4eaf1901",
   "metadata": {},
   "outputs": [
    {
     "name": "stdout",
     "output_type": "stream",
     "text": [
      "0.9087887802741321\n",
      "0.09121121972586788\n"
     ]
    }
   ],
   "source": [
    "print(prob_superior)\n",
    "print(prob_inferior)"
   ]
  },
  {
   "cell_type": "code",
   "execution_count": 92,
   "id": "ce7c1237",
   "metadata": {},
   "outputs": [
    {
     "name": "stdout",
     "output_type": "stream",
     "text": [
      "0.8175775605482642\n"
     ]
    }
   ],
   "source": [
    "probabilidade_intervalo = prob_superior - prob_inferior\n",
    "print(probabilidade_intervalo)"
   ]
  },
  {
   "cell_type": "code",
   "execution_count": 93,
   "id": "2144b0c9",
   "metadata": {},
   "outputs": [
    {
     "data": {
      "text/plain": [
       "<matplotlib.collections.PolyCollection at 0x1334b8940>"
      ]
     },
     "execution_count": 93,
     "metadata": {},
     "output_type": "execute_result"
    },
    {
     "data": {
      "image/png": "[encoded data removed]",
      "text/plain": [
       "<Figure size 432x288 with 1 Axes>"
      ]
     },
     "metadata": {},
     "output_type": "display_data"
    }
   ],
   "source": [
    "pt1 = media + desvio_padrao\n",
    "plt.plot([pt1 ,pt1 ],[0.0,scipy.stats.norm.pdf(pt1 , media, desvio_padrao)], color='black')\n",
    "\n",
    "pt2 = media - desvio_padrao\n",
    "plt.plot([pt2 ,pt2 ],[0.0,scipy.stats.norm.pdf(pt2 , media, desvio_padrao)], color='black')\n",
    "\n",
    "ptx = np.linspace(pt1, pt2, 10)\n",
    "pty = scipy.stats.norm.pdf(ptx,media, desvio_padrao)\n",
    "\n",
    "plt.plot(dados, pdf , color = 'black')\n",
    "plt.fill_between(ptx, pty, color='red', alpha=0.5)"
   ]
  },
  {
   "cell_type": "markdown",
   "id": "f20f41c1",
   "metadata": {},
   "source": [
    "## Resposta do problema\n",
    "\n",
    "A proporção esperada de caixas por dia no intervalo apresentado (80, 120) é de 81.76% aproximadamente. O intervalo está apresentado no gráfico acima"
   ]
  }
 ],
 "metadata": {
  "kernelspec": {
   "display_name": "Python 3 (ipykernel)",
   "language": "python",
   "name": "python3"
  },
  "language_info": {
   "codemirror_mode": {
    "name": "ipython",
    "version": 3
   },
   "file_extension": ".py",
   "mimetype": "text/x-python",
   "name": "python",
   "nbconvert_exporter": "python",
   "pygments_lexer": "ipython3",
   "version": "3.8.6"
  }
 },
 "nbformat": 4,
 "nbformat_minor": 5
}
